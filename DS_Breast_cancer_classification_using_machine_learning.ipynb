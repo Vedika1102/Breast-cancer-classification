{
  "nbformat": 4,
  "nbformat_minor": 0,
  "metadata": {
    "colab": {
      "name": "DS Breast cancer classification using machine learning.ipynb",
      "provenance": [],
      "authorship_tag": "ABX9TyPuauwuDLYgLZTRgLpznQ60",
      "include_colab_link": true
    },
    "kernelspec": {
      "name": "python3",
      "display_name": "Python 3"
    },
    "language_info": {
      "name": "python"
    }
  },
  "cells": [
    {
      "cell_type": "markdown",
      "metadata": {
        "id": "view-in-github",
        "colab_type": "text"
      },
      "source": [
        "<a href=\"https://colab.research.google.com/github/Vedika1102/Breast-cancer-classification/blob/main/DS_Breast_cancer_classification_using_machine_learning.ipynb\" target=\"_parent\"><img src=\"https://colab.research.google.com/assets/colab-badge.svg\" alt=\"Open In Colab\"/></a>"
      ]
    },
    {
      "cell_type": "markdown",
      "source": [
        "The dataset given here is about the patients who were detected with 2 kinds of breast cancer : a) Malignant or b) Benign\n",
        "\n",
        "The features given here are the characteristics of the cell nuclei computed from the fine needle aspirate(FNA) of a breast mass.\n",
        "\n",
        "Ten real-valued features are computed for each cell nucleus as follows:\n",
        "\n",
        "radius (mean of distances from center to points on the perimeter)\n",
        "\n",
        "texture (standard deviation of gray-scale values)\n",
        "\n",
        "perimeter\n",
        "\n",
        "area\n",
        "\n",
        "smoothness (local variation in radius lengths)\n",
        "\n",
        "compactness (perimeter^2 / area - 1.0)\n",
        "\n",
        "concavity (severity of concave portions of the contour)\n",
        "\n",
        "concave points (number of concave portions of the contour)\n",
        "\n",
        "symmetry\n",
        "\n",
        "fractal dimension (\"coastline approximation\" - 1)\n",
        "\n",
        "Mean, standard error and \"worst\" or largest (mean of the three largest values) of these features were computed for each image, resulting in 30 features."
      ],
      "metadata": {
        "id": "tmgtm9hUqm5D"
      }
    },
    {
      "cell_type": "code",
      "execution_count": null,
      "metadata": {
        "id": "iYv9bW8-qdd-"
      },
      "outputs": [],
      "source": [
        "# Importing Libraries:\n",
        "import os\n",
        "import numpy as np\n",
        "import pandas as pd\n",
        "import seaborn as sns\n",
        "import datetime as dt\n",
        "import matplotlib.pyplot as plt\n",
        "%matplotlib inline\n",
        "from sklearn import preprocessing\n",
        "from sklearn.model_selection import train_test_split\n",
        "from sklearn.metrics import confusion_matrix"
      ]
    },
    {
      "cell_type": "code",
      "source": [
        "import warnings\n",
        "warnings.filterwarnings(\"ignore\")"
      ],
      "metadata": {
        "id": "wOX2Z01RunVY"
      },
      "execution_count": null,
      "outputs": []
    },
    {
      "cell_type": "code",
      "source": [
        "# Reading the file\n",
        "data = pd.read_csv('BC.csv')\n",
        "data.head()"
      ],
      "metadata": {
        "colab": {
          "base_uri": "https://localhost:8080/",
          "height": 288
        },
        "id": "j8Suee5EqwzV",
        "outputId": "54272c94-a3e5-40ef-c5c4-0ba56f5540b8"
      },
      "execution_count": null,
      "outputs": [
        {
          "output_type": "execute_result",
          "data": {
            "text/html": [
              "\n",
              "  <div id=\"df-48bc9706-2416-4806-824d-94b9c9dbe6ec\">\n",
              "    <div class=\"colab-df-container\">\n",
              "      <div>\n",
              "<style scoped>\n",
              "    .dataframe tbody tr th:only-of-type {\n",
              "        vertical-align: middle;\n",
              "    }\n",
              "\n",
              "    .dataframe tbody tr th {\n",
              "        vertical-align: top;\n",
              "    }\n",
              "\n",
              "    .dataframe thead th {\n",
              "        text-align: right;\n",
              "    }\n",
              "</style>\n",
              "<table border=\"1\" class=\"dataframe\">\n",
              "  <thead>\n",
              "    <tr style=\"text-align: right;\">\n",
              "      <th></th>\n",
              "      <th>id</th>\n",
              "      <th>diagnosis</th>\n",
              "      <th>radius_mean</th>\n",
              "      <th>texture_mean</th>\n",
              "      <th>perimeter_mean</th>\n",
              "      <th>area_mean</th>\n",
              "      <th>smoothness_mean</th>\n",
              "      <th>compactness_mean</th>\n",
              "      <th>concavity_mean</th>\n",
              "      <th>concave points_mean</th>\n",
              "      <th>symmetry_mean</th>\n",
              "      <th>fractal_dimension_mean</th>\n",
              "      <th>radius_se</th>\n",
              "      <th>texture_se</th>\n",
              "      <th>perimeter_se</th>\n",
              "      <th>area_se</th>\n",
              "      <th>smoothness_se</th>\n",
              "      <th>compactness_se</th>\n",
              "      <th>concavity_se</th>\n",
              "      <th>concave points_se</th>\n",
              "      <th>symmetry_se</th>\n",
              "      <th>fractal_dimension_se</th>\n",
              "      <th>radius_worst</th>\n",
              "      <th>texture_worst</th>\n",
              "      <th>perimeter_worst</th>\n",
              "      <th>area_worst</th>\n",
              "      <th>smoothness_worst</th>\n",
              "      <th>compactness_worst</th>\n",
              "      <th>concavity_worst</th>\n",
              "      <th>concave points_worst</th>\n",
              "      <th>symmetry_worst</th>\n",
              "      <th>fractal_dimension_worst</th>\n",
              "      <th>Unnamed: 32</th>\n",
              "    </tr>\n",
              "  </thead>\n",
              "  <tbody>\n",
              "    <tr>\n",
              "      <th>0</th>\n",
              "      <td>842302</td>\n",
              "      <td>M</td>\n",
              "      <td>17.99</td>\n",
              "      <td>10.38</td>\n",
              "      <td>122.80</td>\n",
              "      <td>1001.0</td>\n",
              "      <td>0.11840</td>\n",
              "      <td>0.27760</td>\n",
              "      <td>0.3001</td>\n",
              "      <td>0.14710</td>\n",
              "      <td>0.2419</td>\n",
              "      <td>0.07871</td>\n",
              "      <td>1.0950</td>\n",
              "      <td>0.9053</td>\n",
              "      <td>8.589</td>\n",
              "      <td>153.40</td>\n",
              "      <td>0.006399</td>\n",
              "      <td>0.04904</td>\n",
              "      <td>0.05373</td>\n",
              "      <td>0.01587</td>\n",
              "      <td>0.03003</td>\n",
              "      <td>0.006193</td>\n",
              "      <td>25.38</td>\n",
              "      <td>17.33</td>\n",
              "      <td>184.60</td>\n",
              "      <td>2019.0</td>\n",
              "      <td>0.1622</td>\n",
              "      <td>0.6656</td>\n",
              "      <td>0.7119</td>\n",
              "      <td>0.2654</td>\n",
              "      <td>0.4601</td>\n",
              "      <td>0.11890</td>\n",
              "      <td>NaN</td>\n",
              "    </tr>\n",
              "    <tr>\n",
              "      <th>1</th>\n",
              "      <td>842517</td>\n",
              "      <td>M</td>\n",
              "      <td>20.57</td>\n",
              "      <td>17.77</td>\n",
              "      <td>132.90</td>\n",
              "      <td>1326.0</td>\n",
              "      <td>0.08474</td>\n",
              "      <td>0.07864</td>\n",
              "      <td>0.0869</td>\n",
              "      <td>0.07017</td>\n",
              "      <td>0.1812</td>\n",
              "      <td>0.05667</td>\n",
              "      <td>0.5435</td>\n",
              "      <td>0.7339</td>\n",
              "      <td>3.398</td>\n",
              "      <td>74.08</td>\n",
              "      <td>0.005225</td>\n",
              "      <td>0.01308</td>\n",
              "      <td>0.01860</td>\n",
              "      <td>0.01340</td>\n",
              "      <td>0.01389</td>\n",
              "      <td>0.003532</td>\n",
              "      <td>24.99</td>\n",
              "      <td>23.41</td>\n",
              "      <td>158.80</td>\n",
              "      <td>1956.0</td>\n",
              "      <td>0.1238</td>\n",
              "      <td>0.1866</td>\n",
              "      <td>0.2416</td>\n",
              "      <td>0.1860</td>\n",
              "      <td>0.2750</td>\n",
              "      <td>0.08902</td>\n",
              "      <td>NaN</td>\n",
              "    </tr>\n",
              "    <tr>\n",
              "      <th>2</th>\n",
              "      <td>84300903</td>\n",
              "      <td>M</td>\n",
              "      <td>19.69</td>\n",
              "      <td>21.25</td>\n",
              "      <td>130.00</td>\n",
              "      <td>1203.0</td>\n",
              "      <td>0.10960</td>\n",
              "      <td>0.15990</td>\n",
              "      <td>0.1974</td>\n",
              "      <td>0.12790</td>\n",
              "      <td>0.2069</td>\n",
              "      <td>0.05999</td>\n",
              "      <td>0.7456</td>\n",
              "      <td>0.7869</td>\n",
              "      <td>4.585</td>\n",
              "      <td>94.03</td>\n",
              "      <td>0.006150</td>\n",
              "      <td>0.04006</td>\n",
              "      <td>0.03832</td>\n",
              "      <td>0.02058</td>\n",
              "      <td>0.02250</td>\n",
              "      <td>0.004571</td>\n",
              "      <td>23.57</td>\n",
              "      <td>25.53</td>\n",
              "      <td>152.50</td>\n",
              "      <td>1709.0</td>\n",
              "      <td>0.1444</td>\n",
              "      <td>0.4245</td>\n",
              "      <td>0.4504</td>\n",
              "      <td>0.2430</td>\n",
              "      <td>0.3613</td>\n",
              "      <td>0.08758</td>\n",
              "      <td>NaN</td>\n",
              "    </tr>\n",
              "    <tr>\n",
              "      <th>3</th>\n",
              "      <td>84348301</td>\n",
              "      <td>M</td>\n",
              "      <td>11.42</td>\n",
              "      <td>20.38</td>\n",
              "      <td>77.58</td>\n",
              "      <td>386.1</td>\n",
              "      <td>0.14250</td>\n",
              "      <td>0.28390</td>\n",
              "      <td>0.2414</td>\n",
              "      <td>0.10520</td>\n",
              "      <td>0.2597</td>\n",
              "      <td>0.09744</td>\n",
              "      <td>0.4956</td>\n",
              "      <td>1.1560</td>\n",
              "      <td>3.445</td>\n",
              "      <td>27.23</td>\n",
              "      <td>0.009110</td>\n",
              "      <td>0.07458</td>\n",
              "      <td>0.05661</td>\n",
              "      <td>0.01867</td>\n",
              "      <td>0.05963</td>\n",
              "      <td>0.009208</td>\n",
              "      <td>14.91</td>\n",
              "      <td>26.50</td>\n",
              "      <td>98.87</td>\n",
              "      <td>567.7</td>\n",
              "      <td>0.2098</td>\n",
              "      <td>0.8663</td>\n",
              "      <td>0.6869</td>\n",
              "      <td>0.2575</td>\n",
              "      <td>0.6638</td>\n",
              "      <td>0.17300</td>\n",
              "      <td>NaN</td>\n",
              "    </tr>\n",
              "    <tr>\n",
              "      <th>4</th>\n",
              "      <td>84358402</td>\n",
              "      <td>M</td>\n",
              "      <td>20.29</td>\n",
              "      <td>14.34</td>\n",
              "      <td>135.10</td>\n",
              "      <td>1297.0</td>\n",
              "      <td>0.10030</td>\n",
              "      <td>0.13280</td>\n",
              "      <td>0.1980</td>\n",
              "      <td>0.10430</td>\n",
              "      <td>0.1809</td>\n",
              "      <td>0.05883</td>\n",
              "      <td>0.7572</td>\n",
              "      <td>0.7813</td>\n",
              "      <td>5.438</td>\n",
              "      <td>94.44</td>\n",
              "      <td>0.011490</td>\n",
              "      <td>0.02461</td>\n",
              "      <td>0.05688</td>\n",
              "      <td>0.01885</td>\n",
              "      <td>0.01756</td>\n",
              "      <td>0.005115</td>\n",
              "      <td>22.54</td>\n",
              "      <td>16.67</td>\n",
              "      <td>152.20</td>\n",
              "      <td>1575.0</td>\n",
              "      <td>0.1374</td>\n",
              "      <td>0.2050</td>\n",
              "      <td>0.4000</td>\n",
              "      <td>0.1625</td>\n",
              "      <td>0.2364</td>\n",
              "      <td>0.07678</td>\n",
              "      <td>NaN</td>\n",
              "    </tr>\n",
              "  </tbody>\n",
              "</table>\n",
              "</div>\n",
              "      <button class=\"colab-df-convert\" onclick=\"convertToInteractive('df-48bc9706-2416-4806-824d-94b9c9dbe6ec')\"\n",
              "              title=\"Convert this dataframe to an interactive table.\"\n",
              "              style=\"display:none;\">\n",
              "        \n",
              "  <svg xmlns=\"http://www.w3.org/2000/svg\" height=\"24px\"viewBox=\"0 0 24 24\"\n",
              "       width=\"24px\">\n",
              "    <path d=\"M0 0h24v24H0V0z\" fill=\"none\"/>\n",
              "    <path d=\"M18.56 5.44l.94 2.06.94-2.06 2.06-.94-2.06-.94-.94-2.06-.94 2.06-2.06.94zm-11 1L8.5 8.5l.94-2.06 2.06-.94-2.06-.94L8.5 2.5l-.94 2.06-2.06.94zm10 10l.94 2.06.94-2.06 2.06-.94-2.06-.94-.94-2.06-.94 2.06-2.06.94z\"/><path d=\"M17.41 7.96l-1.37-1.37c-.4-.4-.92-.59-1.43-.59-.52 0-1.04.2-1.43.59L10.3 9.45l-7.72 7.72c-.78.78-.78 2.05 0 2.83L4 21.41c.39.39.9.59 1.41.59.51 0 1.02-.2 1.41-.59l7.78-7.78 2.81-2.81c.8-.78.8-2.07 0-2.86zM5.41 20L4 18.59l7.72-7.72 1.47 1.35L5.41 20z\"/>\n",
              "  </svg>\n",
              "      </button>\n",
              "      \n",
              "  <style>\n",
              "    .colab-df-container {\n",
              "      display:flex;\n",
              "      flex-wrap:wrap;\n",
              "      gap: 12px;\n",
              "    }\n",
              "\n",
              "    .colab-df-convert {\n",
              "      background-color: #E8F0FE;\n",
              "      border: none;\n",
              "      border-radius: 50%;\n",
              "      cursor: pointer;\n",
              "      display: none;\n",
              "      fill: #1967D2;\n",
              "      height: 32px;\n",
              "      padding: 0 0 0 0;\n",
              "      width: 32px;\n",
              "    }\n",
              "\n",
              "    .colab-df-convert:hover {\n",
              "      background-color: #E2EBFA;\n",
              "      box-shadow: 0px 1px 2px rgba(60, 64, 67, 0.3), 0px 1px 3px 1px rgba(60, 64, 67, 0.15);\n",
              "      fill: #174EA6;\n",
              "    }\n",
              "\n",
              "    [theme=dark] .colab-df-convert {\n",
              "      background-color: #3B4455;\n",
              "      fill: #D2E3FC;\n",
              "    }\n",
              "\n",
              "    [theme=dark] .colab-df-convert:hover {\n",
              "      background-color: #434B5C;\n",
              "      box-shadow: 0px 1px 3px 1px rgba(0, 0, 0, 0.15);\n",
              "      filter: drop-shadow(0px 1px 2px rgba(0, 0, 0, 0.3));\n",
              "      fill: #FFFFFF;\n",
              "    }\n",
              "  </style>\n",
              "\n",
              "      <script>\n",
              "        const buttonEl =\n",
              "          document.querySelector('#df-48bc9706-2416-4806-824d-94b9c9dbe6ec button.colab-df-convert');\n",
              "        buttonEl.style.display =\n",
              "          google.colab.kernel.accessAllowed ? 'block' : 'none';\n",
              "\n",
              "        async function convertToInteractive(key) {\n",
              "          const element = document.querySelector('#df-48bc9706-2416-4806-824d-94b9c9dbe6ec');\n",
              "          const dataTable =\n",
              "            await google.colab.kernel.invokeFunction('convertToInteractive',\n",
              "                                                     [key], {});\n",
              "          if (!dataTable) return;\n",
              "\n",
              "          const docLinkHtml = 'Like what you see? Visit the ' +\n",
              "            '<a target=\"_blank\" href=https://colab.research.google.com/notebooks/data_table.ipynb>data table notebook</a>'\n",
              "            + ' to learn more about interactive tables.';\n",
              "          element.innerHTML = '';\n",
              "          dataTable['output_type'] = 'display_data';\n",
              "          await google.colab.output.renderOutput(dataTable, element);\n",
              "          const docLink = document.createElement('div');\n",
              "          docLink.innerHTML = docLinkHtml;\n",
              "          element.appendChild(docLink);\n",
              "        }\n",
              "      </script>\n",
              "    </div>\n",
              "  </div>\n",
              "  "
            ],
            "text/plain": [
              "         id diagnosis  ...  fractal_dimension_worst  Unnamed: 32\n",
              "0    842302         M  ...                  0.11890          NaN\n",
              "1    842517         M  ...                  0.08902          NaN\n",
              "2  84300903         M  ...                  0.08758          NaN\n",
              "3  84348301         M  ...                  0.17300          NaN\n",
              "4  84358402         M  ...                  0.07678          NaN\n",
              "\n",
              "[5 rows x 33 columns]"
            ]
          },
          "metadata": {},
          "execution_count": 46
        }
      ]
    },
    {
      "cell_type": "markdown",
      "source": [
        "I: Data Wrangling -\n",
        "\n",
        "I-a. Doing spot check on the data:"
      ],
      "metadata": {
        "id": "jl_62sXtq5gv"
      }
    },
    {
      "cell_type": "code",
      "source": [
        "# Overall view of the data:\n",
        "data.info()"
      ],
      "metadata": {
        "colab": {
          "base_uri": "https://localhost:8080/"
        },
        "id": "qVroQoYjq3Hg",
        "outputId": "0fe8b9b7-c14d-4508-9e90-531b0c26633c"
      },
      "execution_count": null,
      "outputs": [
        {
          "output_type": "stream",
          "name": "stdout",
          "text": [
            "<class 'pandas.core.frame.DataFrame'>\n",
            "RangeIndex: 569 entries, 0 to 568\n",
            "Data columns (total 33 columns):\n",
            " #   Column                   Non-Null Count  Dtype  \n",
            "---  ------                   --------------  -----  \n",
            " 0   id                       569 non-null    int64  \n",
            " 1   diagnosis                569 non-null    object \n",
            " 2   radius_mean              569 non-null    float64\n",
            " 3   texture_mean             569 non-null    float64\n",
            " 4   perimeter_mean           569 non-null    float64\n",
            " 5   area_mean                569 non-null    float64\n",
            " 6   smoothness_mean          569 non-null    float64\n",
            " 7   compactness_mean         569 non-null    float64\n",
            " 8   concavity_mean           569 non-null    float64\n",
            " 9   concave points_mean      569 non-null    float64\n",
            " 10  symmetry_mean            569 non-null    float64\n",
            " 11  fractal_dimension_mean   569 non-null    float64\n",
            " 12  radius_se                569 non-null    float64\n",
            " 13  texture_se               569 non-null    float64\n",
            " 14  perimeter_se             569 non-null    float64\n",
            " 15  area_se                  569 non-null    float64\n",
            " 16  smoothness_se            569 non-null    float64\n",
            " 17  compactness_se           569 non-null    float64\n",
            " 18  concavity_se             569 non-null    float64\n",
            " 19  concave points_se        569 non-null    float64\n",
            " 20  symmetry_se              569 non-null    float64\n",
            " 21  fractal_dimension_se     569 non-null    float64\n",
            " 22  radius_worst             569 non-null    float64\n",
            " 23  texture_worst            569 non-null    float64\n",
            " 24  perimeter_worst          569 non-null    float64\n",
            " 25  area_worst               569 non-null    float64\n",
            " 26  smoothness_worst         569 non-null    float64\n",
            " 27  compactness_worst        569 non-null    float64\n",
            " 28  concavity_worst          569 non-null    float64\n",
            " 29  concave points_worst     569 non-null    float64\n",
            " 30  symmetry_worst           569 non-null    float64\n",
            " 31  fractal_dimension_worst  569 non-null    float64\n",
            " 32  Unnamed: 32              0 non-null      float64\n",
            "dtypes: float64(31), int64(1), object(1)\n",
            "memory usage: 146.8+ KB\n"
          ]
        }
      ]
    },
    {
      "cell_type": "code",
      "source": [
        "# Target Variable:\n",
        "data.diagnosis.unique()"
      ],
      "metadata": {
        "colab": {
          "base_uri": "https://localhost:8080/"
        },
        "id": "M5qx7l42rDLH",
        "outputId": "c3aa8a89-8353-4e4e-be00-28761ffabfe1"
      },
      "execution_count": null,
      "outputs": [
        {
          "output_type": "execute_result",
          "data": {
            "text/plain": [
              "array(['M', 'B'], dtype=object)"
            ]
          },
          "metadata": {},
          "execution_count": 48
        }
      ]
    },
    {
      "cell_type": "markdown",
      "source": [
        "I-b. Summary of Numeric Columns:"
      ],
      "metadata": {
        "id": "yJ29SJlVrJGd"
      }
    },
    {
      "cell_type": "code",
      "source": [
        "data.describe().T"
      ],
      "metadata": {
        "colab": {
          "base_uri": "https://localhost:8080/",
          "height": 1000
        },
        "id": "aQLYMVK0rGfZ",
        "outputId": "ae516897-f3c9-41f7-91cc-9ce54c839bc6"
      },
      "execution_count": null,
      "outputs": [
        {
          "output_type": "execute_result",
          "data": {
            "text/html": [
              "\n",
              "  <div id=\"df-bb1abf78-07d1-409d-bfdf-693c49baf949\">\n",
              "    <div class=\"colab-df-container\">\n",
              "      <div>\n",
              "<style scoped>\n",
              "    .dataframe tbody tr th:only-of-type {\n",
              "        vertical-align: middle;\n",
              "    }\n",
              "\n",
              "    .dataframe tbody tr th {\n",
              "        vertical-align: top;\n",
              "    }\n",
              "\n",
              "    .dataframe thead th {\n",
              "        text-align: right;\n",
              "    }\n",
              "</style>\n",
              "<table border=\"1\" class=\"dataframe\">\n",
              "  <thead>\n",
              "    <tr style=\"text-align: right;\">\n",
              "      <th></th>\n",
              "      <th>count</th>\n",
              "      <th>mean</th>\n",
              "      <th>std</th>\n",
              "      <th>min</th>\n",
              "      <th>25%</th>\n",
              "      <th>50%</th>\n",
              "      <th>75%</th>\n",
              "      <th>max</th>\n",
              "    </tr>\n",
              "  </thead>\n",
              "  <tbody>\n",
              "    <tr>\n",
              "      <th>id</th>\n",
              "      <td>569.0</td>\n",
              "      <td>3.037183e+07</td>\n",
              "      <td>1.250206e+08</td>\n",
              "      <td>8670.000000</td>\n",
              "      <td>869218.000000</td>\n",
              "      <td>906024.000000</td>\n",
              "      <td>8.813129e+06</td>\n",
              "      <td>9.113205e+08</td>\n",
              "    </tr>\n",
              "    <tr>\n",
              "      <th>radius_mean</th>\n",
              "      <td>569.0</td>\n",
              "      <td>1.412729e+01</td>\n",
              "      <td>3.524049e+00</td>\n",
              "      <td>6.981000</td>\n",
              "      <td>11.700000</td>\n",
              "      <td>13.370000</td>\n",
              "      <td>1.578000e+01</td>\n",
              "      <td>2.811000e+01</td>\n",
              "    </tr>\n",
              "    <tr>\n",
              "      <th>texture_mean</th>\n",
              "      <td>569.0</td>\n",
              "      <td>1.928965e+01</td>\n",
              "      <td>4.301036e+00</td>\n",
              "      <td>9.710000</td>\n",
              "      <td>16.170000</td>\n",
              "      <td>18.840000</td>\n",
              "      <td>2.180000e+01</td>\n",
              "      <td>3.928000e+01</td>\n",
              "    </tr>\n",
              "    <tr>\n",
              "      <th>perimeter_mean</th>\n",
              "      <td>569.0</td>\n",
              "      <td>9.196903e+01</td>\n",
              "      <td>2.429898e+01</td>\n",
              "      <td>43.790000</td>\n",
              "      <td>75.170000</td>\n",
              "      <td>86.240000</td>\n",
              "      <td>1.041000e+02</td>\n",
              "      <td>1.885000e+02</td>\n",
              "    </tr>\n",
              "    <tr>\n",
              "      <th>area_mean</th>\n",
              "      <td>569.0</td>\n",
              "      <td>6.548891e+02</td>\n",
              "      <td>3.519141e+02</td>\n",
              "      <td>143.500000</td>\n",
              "      <td>420.300000</td>\n",
              "      <td>551.100000</td>\n",
              "      <td>7.827000e+02</td>\n",
              "      <td>2.501000e+03</td>\n",
              "    </tr>\n",
              "    <tr>\n",
              "      <th>smoothness_mean</th>\n",
              "      <td>569.0</td>\n",
              "      <td>9.636028e-02</td>\n",
              "      <td>1.406413e-02</td>\n",
              "      <td>0.052630</td>\n",
              "      <td>0.086370</td>\n",
              "      <td>0.095870</td>\n",
              "      <td>1.053000e-01</td>\n",
              "      <td>1.634000e-01</td>\n",
              "    </tr>\n",
              "    <tr>\n",
              "      <th>compactness_mean</th>\n",
              "      <td>569.0</td>\n",
              "      <td>1.043410e-01</td>\n",
              "      <td>5.281276e-02</td>\n",
              "      <td>0.019380</td>\n",
              "      <td>0.064920</td>\n",
              "      <td>0.092630</td>\n",
              "      <td>1.304000e-01</td>\n",
              "      <td>3.454000e-01</td>\n",
              "    </tr>\n",
              "    <tr>\n",
              "      <th>concavity_mean</th>\n",
              "      <td>569.0</td>\n",
              "      <td>8.879932e-02</td>\n",
              "      <td>7.971981e-02</td>\n",
              "      <td>0.000000</td>\n",
              "      <td>0.029560</td>\n",
              "      <td>0.061540</td>\n",
              "      <td>1.307000e-01</td>\n",
              "      <td>4.268000e-01</td>\n",
              "    </tr>\n",
              "    <tr>\n",
              "      <th>concave points_mean</th>\n",
              "      <td>569.0</td>\n",
              "      <td>4.891915e-02</td>\n",
              "      <td>3.880284e-02</td>\n",
              "      <td>0.000000</td>\n",
              "      <td>0.020310</td>\n",
              "      <td>0.033500</td>\n",
              "      <td>7.400000e-02</td>\n",
              "      <td>2.012000e-01</td>\n",
              "    </tr>\n",
              "    <tr>\n",
              "      <th>symmetry_mean</th>\n",
              "      <td>569.0</td>\n",
              "      <td>1.811619e-01</td>\n",
              "      <td>2.741428e-02</td>\n",
              "      <td>0.106000</td>\n",
              "      <td>0.161900</td>\n",
              "      <td>0.179200</td>\n",
              "      <td>1.957000e-01</td>\n",
              "      <td>3.040000e-01</td>\n",
              "    </tr>\n",
              "    <tr>\n",
              "      <th>fractal_dimension_mean</th>\n",
              "      <td>569.0</td>\n",
              "      <td>6.279761e-02</td>\n",
              "      <td>7.060363e-03</td>\n",
              "      <td>0.049960</td>\n",
              "      <td>0.057700</td>\n",
              "      <td>0.061540</td>\n",
              "      <td>6.612000e-02</td>\n",
              "      <td>9.744000e-02</td>\n",
              "    </tr>\n",
              "    <tr>\n",
              "      <th>radius_se</th>\n",
              "      <td>569.0</td>\n",
              "      <td>4.051721e-01</td>\n",
              "      <td>2.773127e-01</td>\n",
              "      <td>0.111500</td>\n",
              "      <td>0.232400</td>\n",
              "      <td>0.324200</td>\n",
              "      <td>4.789000e-01</td>\n",
              "      <td>2.873000e+00</td>\n",
              "    </tr>\n",
              "    <tr>\n",
              "      <th>texture_se</th>\n",
              "      <td>569.0</td>\n",
              "      <td>1.216853e+00</td>\n",
              "      <td>5.516484e-01</td>\n",
              "      <td>0.360200</td>\n",
              "      <td>0.833900</td>\n",
              "      <td>1.108000</td>\n",
              "      <td>1.474000e+00</td>\n",
              "      <td>4.885000e+00</td>\n",
              "    </tr>\n",
              "    <tr>\n",
              "      <th>perimeter_se</th>\n",
              "      <td>569.0</td>\n",
              "      <td>2.866059e+00</td>\n",
              "      <td>2.021855e+00</td>\n",
              "      <td>0.757000</td>\n",
              "      <td>1.606000</td>\n",
              "      <td>2.287000</td>\n",
              "      <td>3.357000e+00</td>\n",
              "      <td>2.198000e+01</td>\n",
              "    </tr>\n",
              "    <tr>\n",
              "      <th>area_se</th>\n",
              "      <td>569.0</td>\n",
              "      <td>4.033708e+01</td>\n",
              "      <td>4.549101e+01</td>\n",
              "      <td>6.802000</td>\n",
              "      <td>17.850000</td>\n",
              "      <td>24.530000</td>\n",
              "      <td>4.519000e+01</td>\n",
              "      <td>5.422000e+02</td>\n",
              "    </tr>\n",
              "    <tr>\n",
              "      <th>smoothness_se</th>\n",
              "      <td>569.0</td>\n",
              "      <td>7.040979e-03</td>\n",
              "      <td>3.002518e-03</td>\n",
              "      <td>0.001713</td>\n",
              "      <td>0.005169</td>\n",
              "      <td>0.006380</td>\n",
              "      <td>8.146000e-03</td>\n",
              "      <td>3.113000e-02</td>\n",
              "    </tr>\n",
              "    <tr>\n",
              "      <th>compactness_se</th>\n",
              "      <td>569.0</td>\n",
              "      <td>2.547814e-02</td>\n",
              "      <td>1.790818e-02</td>\n",
              "      <td>0.002252</td>\n",
              "      <td>0.013080</td>\n",
              "      <td>0.020450</td>\n",
              "      <td>3.245000e-02</td>\n",
              "      <td>1.354000e-01</td>\n",
              "    </tr>\n",
              "    <tr>\n",
              "      <th>concavity_se</th>\n",
              "      <td>569.0</td>\n",
              "      <td>3.189372e-02</td>\n",
              "      <td>3.018606e-02</td>\n",
              "      <td>0.000000</td>\n",
              "      <td>0.015090</td>\n",
              "      <td>0.025890</td>\n",
              "      <td>4.205000e-02</td>\n",
              "      <td>3.960000e-01</td>\n",
              "    </tr>\n",
              "    <tr>\n",
              "      <th>concave points_se</th>\n",
              "      <td>569.0</td>\n",
              "      <td>1.179614e-02</td>\n",
              "      <td>6.170285e-03</td>\n",
              "      <td>0.000000</td>\n",
              "      <td>0.007638</td>\n",
              "      <td>0.010930</td>\n",
              "      <td>1.471000e-02</td>\n",
              "      <td>5.279000e-02</td>\n",
              "    </tr>\n",
              "    <tr>\n",
              "      <th>symmetry_se</th>\n",
              "      <td>569.0</td>\n",
              "      <td>2.054230e-02</td>\n",
              "      <td>8.266372e-03</td>\n",
              "      <td>0.007882</td>\n",
              "      <td>0.015160</td>\n",
              "      <td>0.018730</td>\n",
              "      <td>2.348000e-02</td>\n",
              "      <td>7.895000e-02</td>\n",
              "    </tr>\n",
              "    <tr>\n",
              "      <th>fractal_dimension_se</th>\n",
              "      <td>569.0</td>\n",
              "      <td>3.794904e-03</td>\n",
              "      <td>2.646071e-03</td>\n",
              "      <td>0.000895</td>\n",
              "      <td>0.002248</td>\n",
              "      <td>0.003187</td>\n",
              "      <td>4.558000e-03</td>\n",
              "      <td>2.984000e-02</td>\n",
              "    </tr>\n",
              "    <tr>\n",
              "      <th>radius_worst</th>\n",
              "      <td>569.0</td>\n",
              "      <td>1.626919e+01</td>\n",
              "      <td>4.833242e+00</td>\n",
              "      <td>7.930000</td>\n",
              "      <td>13.010000</td>\n",
              "      <td>14.970000</td>\n",
              "      <td>1.879000e+01</td>\n",
              "      <td>3.604000e+01</td>\n",
              "    </tr>\n",
              "    <tr>\n",
              "      <th>texture_worst</th>\n",
              "      <td>569.0</td>\n",
              "      <td>2.567722e+01</td>\n",
              "      <td>6.146258e+00</td>\n",
              "      <td>12.020000</td>\n",
              "      <td>21.080000</td>\n",
              "      <td>25.410000</td>\n",
              "      <td>2.972000e+01</td>\n",
              "      <td>4.954000e+01</td>\n",
              "    </tr>\n",
              "    <tr>\n",
              "      <th>perimeter_worst</th>\n",
              "      <td>569.0</td>\n",
              "      <td>1.072612e+02</td>\n",
              "      <td>3.360254e+01</td>\n",
              "      <td>50.410000</td>\n",
              "      <td>84.110000</td>\n",
              "      <td>97.660000</td>\n",
              "      <td>1.254000e+02</td>\n",
              "      <td>2.512000e+02</td>\n",
              "    </tr>\n",
              "    <tr>\n",
              "      <th>area_worst</th>\n",
              "      <td>569.0</td>\n",
              "      <td>8.805831e+02</td>\n",
              "      <td>5.693570e+02</td>\n",
              "      <td>185.200000</td>\n",
              "      <td>515.300000</td>\n",
              "      <td>686.500000</td>\n",
              "      <td>1.084000e+03</td>\n",
              "      <td>4.254000e+03</td>\n",
              "    </tr>\n",
              "    <tr>\n",
              "      <th>smoothness_worst</th>\n",
              "      <td>569.0</td>\n",
              "      <td>1.323686e-01</td>\n",
              "      <td>2.283243e-02</td>\n",
              "      <td>0.071170</td>\n",
              "      <td>0.116600</td>\n",
              "      <td>0.131300</td>\n",
              "      <td>1.460000e-01</td>\n",
              "      <td>2.226000e-01</td>\n",
              "    </tr>\n",
              "    <tr>\n",
              "      <th>compactness_worst</th>\n",
              "      <td>569.0</td>\n",
              "      <td>2.542650e-01</td>\n",
              "      <td>1.573365e-01</td>\n",
              "      <td>0.027290</td>\n",
              "      <td>0.147200</td>\n",
              "      <td>0.211900</td>\n",
              "      <td>3.391000e-01</td>\n",
              "      <td>1.058000e+00</td>\n",
              "    </tr>\n",
              "    <tr>\n",
              "      <th>concavity_worst</th>\n",
              "      <td>569.0</td>\n",
              "      <td>2.721885e-01</td>\n",
              "      <td>2.086243e-01</td>\n",
              "      <td>0.000000</td>\n",
              "      <td>0.114500</td>\n",
              "      <td>0.226700</td>\n",
              "      <td>3.829000e-01</td>\n",
              "      <td>1.252000e+00</td>\n",
              "    </tr>\n",
              "    <tr>\n",
              "      <th>concave points_worst</th>\n",
              "      <td>569.0</td>\n",
              "      <td>1.146062e-01</td>\n",
              "      <td>6.573234e-02</td>\n",
              "      <td>0.000000</td>\n",
              "      <td>0.064930</td>\n",
              "      <td>0.099930</td>\n",
              "      <td>1.614000e-01</td>\n",
              "      <td>2.910000e-01</td>\n",
              "    </tr>\n",
              "    <tr>\n",
              "      <th>symmetry_worst</th>\n",
              "      <td>569.0</td>\n",
              "      <td>2.900756e-01</td>\n",
              "      <td>6.186747e-02</td>\n",
              "      <td>0.156500</td>\n",
              "      <td>0.250400</td>\n",
              "      <td>0.282200</td>\n",
              "      <td>3.179000e-01</td>\n",
              "      <td>6.638000e-01</td>\n",
              "    </tr>\n",
              "    <tr>\n",
              "      <th>fractal_dimension_worst</th>\n",
              "      <td>569.0</td>\n",
              "      <td>8.394582e-02</td>\n",
              "      <td>1.806127e-02</td>\n",
              "      <td>0.055040</td>\n",
              "      <td>0.071460</td>\n",
              "      <td>0.080040</td>\n",
              "      <td>9.208000e-02</td>\n",
              "      <td>2.075000e-01</td>\n",
              "    </tr>\n",
              "    <tr>\n",
              "      <th>Unnamed: 32</th>\n",
              "      <td>0.0</td>\n",
              "      <td>NaN</td>\n",
              "      <td>NaN</td>\n",
              "      <td>NaN</td>\n",
              "      <td>NaN</td>\n",
              "      <td>NaN</td>\n",
              "      <td>NaN</td>\n",
              "      <td>NaN</td>\n",
              "    </tr>\n",
              "  </tbody>\n",
              "</table>\n",
              "</div>\n",
              "      <button class=\"colab-df-convert\" onclick=\"convertToInteractive('df-bb1abf78-07d1-409d-bfdf-693c49baf949')\"\n",
              "              title=\"Convert this dataframe to an interactive table.\"\n",
              "              style=\"display:none;\">\n",
              "        \n",
              "  <svg xmlns=\"http://www.w3.org/2000/svg\" height=\"24px\"viewBox=\"0 0 24 24\"\n",
              "       width=\"24px\">\n",
              "    <path d=\"M0 0h24v24H0V0z\" fill=\"none\"/>\n",
              "    <path d=\"M18.56 5.44l.94 2.06.94-2.06 2.06-.94-2.06-.94-.94-2.06-.94 2.06-2.06.94zm-11 1L8.5 8.5l.94-2.06 2.06-.94-2.06-.94L8.5 2.5l-.94 2.06-2.06.94zm10 10l.94 2.06.94-2.06 2.06-.94-2.06-.94-.94-2.06-.94 2.06-2.06.94z\"/><path d=\"M17.41 7.96l-1.37-1.37c-.4-.4-.92-.59-1.43-.59-.52 0-1.04.2-1.43.59L10.3 9.45l-7.72 7.72c-.78.78-.78 2.05 0 2.83L4 21.41c.39.39.9.59 1.41.59.51 0 1.02-.2 1.41-.59l7.78-7.78 2.81-2.81c.8-.78.8-2.07 0-2.86zM5.41 20L4 18.59l7.72-7.72 1.47 1.35L5.41 20z\"/>\n",
              "  </svg>\n",
              "      </button>\n",
              "      \n",
              "  <style>\n",
              "    .colab-df-container {\n",
              "      display:flex;\n",
              "      flex-wrap:wrap;\n",
              "      gap: 12px;\n",
              "    }\n",
              "\n",
              "    .colab-df-convert {\n",
              "      background-color: #E8F0FE;\n",
              "      border: none;\n",
              "      border-radius: 50%;\n",
              "      cursor: pointer;\n",
              "      display: none;\n",
              "      fill: #1967D2;\n",
              "      height: 32px;\n",
              "      padding: 0 0 0 0;\n",
              "      width: 32px;\n",
              "    }\n",
              "\n",
              "    .colab-df-convert:hover {\n",
              "      background-color: #E2EBFA;\n",
              "      box-shadow: 0px 1px 2px rgba(60, 64, 67, 0.3), 0px 1px 3px 1px rgba(60, 64, 67, 0.15);\n",
              "      fill: #174EA6;\n",
              "    }\n",
              "\n",
              "    [theme=dark] .colab-df-convert {\n",
              "      background-color: #3B4455;\n",
              "      fill: #D2E3FC;\n",
              "    }\n",
              "\n",
              "    [theme=dark] .colab-df-convert:hover {\n",
              "      background-color: #434B5C;\n",
              "      box-shadow: 0px 1px 3px 1px rgba(0, 0, 0, 0.15);\n",
              "      filter: drop-shadow(0px 1px 2px rgba(0, 0, 0, 0.3));\n",
              "      fill: #FFFFFF;\n",
              "    }\n",
              "  </style>\n",
              "\n",
              "      <script>\n",
              "        const buttonEl =\n",
              "          document.querySelector('#df-bb1abf78-07d1-409d-bfdf-693c49baf949 button.colab-df-convert');\n",
              "        buttonEl.style.display =\n",
              "          google.colab.kernel.accessAllowed ? 'block' : 'none';\n",
              "\n",
              "        async function convertToInteractive(key) {\n",
              "          const element = document.querySelector('#df-bb1abf78-07d1-409d-bfdf-693c49baf949');\n",
              "          const dataTable =\n",
              "            await google.colab.kernel.invokeFunction('convertToInteractive',\n",
              "                                                     [key], {});\n",
              "          if (!dataTable) return;\n",
              "\n",
              "          const docLinkHtml = 'Like what you see? Visit the ' +\n",
              "            '<a target=\"_blank\" href=https://colab.research.google.com/notebooks/data_table.ipynb>data table notebook</a>'\n",
              "            + ' to learn more about interactive tables.';\n",
              "          element.innerHTML = '';\n",
              "          dataTable['output_type'] = 'display_data';\n",
              "          await google.colab.output.renderOutput(dataTable, element);\n",
              "          const docLink = document.createElement('div');\n",
              "          docLink.innerHTML = docLinkHtml;\n",
              "          element.appendChild(docLink);\n",
              "        }\n",
              "      </script>\n",
              "    </div>\n",
              "  </div>\n",
              "  "
            ],
            "text/plain": [
              "                         count          mean  ...           75%           max\n",
              "id                       569.0  3.037183e+07  ...  8.813129e+06  9.113205e+08\n",
              "radius_mean              569.0  1.412729e+01  ...  1.578000e+01  2.811000e+01\n",
              "texture_mean             569.0  1.928965e+01  ...  2.180000e+01  3.928000e+01\n",
              "perimeter_mean           569.0  9.196903e+01  ...  1.041000e+02  1.885000e+02\n",
              "area_mean                569.0  6.548891e+02  ...  7.827000e+02  2.501000e+03\n",
              "smoothness_mean          569.0  9.636028e-02  ...  1.053000e-01  1.634000e-01\n",
              "compactness_mean         569.0  1.043410e-01  ...  1.304000e-01  3.454000e-01\n",
              "concavity_mean           569.0  8.879932e-02  ...  1.307000e-01  4.268000e-01\n",
              "concave points_mean      569.0  4.891915e-02  ...  7.400000e-02  2.012000e-01\n",
              "symmetry_mean            569.0  1.811619e-01  ...  1.957000e-01  3.040000e-01\n",
              "fractal_dimension_mean   569.0  6.279761e-02  ...  6.612000e-02  9.744000e-02\n",
              "radius_se                569.0  4.051721e-01  ...  4.789000e-01  2.873000e+00\n",
              "texture_se               569.0  1.216853e+00  ...  1.474000e+00  4.885000e+00\n",
              "perimeter_se             569.0  2.866059e+00  ...  3.357000e+00  2.198000e+01\n",
              "area_se                  569.0  4.033708e+01  ...  4.519000e+01  5.422000e+02\n",
              "smoothness_se            569.0  7.040979e-03  ...  8.146000e-03  3.113000e-02\n",
              "compactness_se           569.0  2.547814e-02  ...  3.245000e-02  1.354000e-01\n",
              "concavity_se             569.0  3.189372e-02  ...  4.205000e-02  3.960000e-01\n",
              "concave points_se        569.0  1.179614e-02  ...  1.471000e-02  5.279000e-02\n",
              "symmetry_se              569.0  2.054230e-02  ...  2.348000e-02  7.895000e-02\n",
              "fractal_dimension_se     569.0  3.794904e-03  ...  4.558000e-03  2.984000e-02\n",
              "radius_worst             569.0  1.626919e+01  ...  1.879000e+01  3.604000e+01\n",
              "texture_worst            569.0  2.567722e+01  ...  2.972000e+01  4.954000e+01\n",
              "perimeter_worst          569.0  1.072612e+02  ...  1.254000e+02  2.512000e+02\n",
              "area_worst               569.0  8.805831e+02  ...  1.084000e+03  4.254000e+03\n",
              "smoothness_worst         569.0  1.323686e-01  ...  1.460000e-01  2.226000e-01\n",
              "compactness_worst        569.0  2.542650e-01  ...  3.391000e-01  1.058000e+00\n",
              "concavity_worst          569.0  2.721885e-01  ...  3.829000e-01  1.252000e+00\n",
              "concave points_worst     569.0  1.146062e-01  ...  1.614000e-01  2.910000e-01\n",
              "symmetry_worst           569.0  2.900756e-01  ...  3.179000e-01  6.638000e-01\n",
              "fractal_dimension_worst  569.0  8.394582e-02  ...  9.208000e-02  2.075000e-01\n",
              "Unnamed: 32                0.0           NaN  ...           NaN           NaN\n",
              "\n",
              "[32 rows x 8 columns]"
            ]
          },
          "metadata": {},
          "execution_count": 49
        }
      ]
    },
    {
      "cell_type": "markdown",
      "source": [
        "There are no null values\n",
        "\n",
        "id and Unnamed: 32 are not required columns. So we will get rid of those.\n",
        "\n",
        "There are two outcomes - Benign Tumor (which spreads locally) Malignant Tumor (which can spread throughout the whole body via blood)"
      ],
      "metadata": {
        "id": "d964Z1UGrSt6"
      }
    },
    {
      "cell_type": "markdown",
      "source": [
        "I-c. Some operations:"
      ],
      "metadata": {
        "id": "ct-nviYXrZhZ"
      }
    },
    {
      "cell_type": "code",
      "source": [
        "# Dropping some of the unwanted variables:\n",
        "data.drop('Unnamed: 32',axis=1,inplace=True)\n"
      ],
      "metadata": {
        "id": "xXSreaC2rMkq"
      },
      "execution_count": null,
      "outputs": []
    },
    {
      "cell_type": "code",
      "source": [
        "data.drop('id',axis=1,inplace=True)"
      ],
      "metadata": {
        "id": "QUFlREH0rcLZ"
      },
      "execution_count": null,
      "outputs": []
    },
    {
      "cell_type": "code",
      "source": [
        "# Binarizing the target variable:\n",
        "data['diagnosis'] = data['diagnosis'].map({'M':1,'B':0})"
      ],
      "metadata": {
        "id": "OU4B7Nz0sqf_"
      },
      "execution_count": null,
      "outputs": []
    },
    {
      "cell_type": "markdown",
      "source": [
        "Important: \n",
        "The data is highly variable and any feature with low variance will be neglected. We will scale the data to allow more predictive power.\n",
        "** Here we are standardizing the dataset - meaning shifting the distribution to have mean of zero and standard deviation of unit variance **"
      ],
      "metadata": {
        "id": "sJke9n6aszvU"
      }
    },
    {
      "cell_type": "code",
      "source": [
        "datas = pd.DataFrame(preprocessing.scale(data.iloc[:,1:32]))\n",
        "datas.columns = list(data.iloc[:,1:32].columns)\n",
        "datas['diagnosis'] = data['diagnosis']"
      ],
      "metadata": {
        "id": "7I2IySamsxG8"
      },
      "execution_count": null,
      "outputs": []
    },
    {
      "cell_type": "markdown",
      "source": [
        "EDA:"
      ],
      "metadata": {
        "id": "K1eLu3sss69B"
      }
    },
    {
      "cell_type": "code",
      "source": [
        "#Looking at the number of patients with Malignant and Benign Tumors:\n",
        "datas.diagnosis.value_counts().plot(kind='bar', alpha = 0.5, facecolor = 'b', figsize=(12,6))\n",
        "plt.title(\"Diagnosis (M=1 , B=0)\", fontsize = '18')\n",
        "plt.ylabel(\"Total Number of Patients\")\n",
        "plt.grid(b=True)"
      ],
      "metadata": {
        "colab": {
          "base_uri": "https://localhost:8080/",
          "height": 390
        },
        "id": "EC4H3WOMs4xB",
        "outputId": "4e28a4d0-c760-4c11-8f43-f63a78ac0816"
      },
      "execution_count": null,
      "outputs": [
        {
          "output_type": "display_data",
          "data": {
            "image/png": "[encoded data removed]",
            "text/plain": [
              "<Figure size 864x432 with 1 Axes>"
            ]
          },
          "metadata": {
            "needs_background": "light"
          }
        }
      ]
    },
    {
      "cell_type": "markdown",
      "source": [
        "~ 65% of the patients had Benign tumor while the rest of them had Malignant."
      ],
      "metadata": {
        "id": "8u_Y8BYUtBEw"
      }
    },
    {
      "cell_type": "markdown",
      "source": [
        "Considering only mean features of nucleus"
      ],
      "metadata": {
        "id": "WWGCSCqytD4x"
      }
    },
    {
      "cell_type": "code",
      "source": [
        "data.columns"
      ],
      "metadata": {
        "colab": {
          "base_uri": "https://localhost:8080/"
        },
        "id": "-mEjR8ZFs-fi",
        "outputId": "804facb6-aa75-499b-b41e-25bc1e05e98f"
      },
      "execution_count": null,
      "outputs": [
        {
          "output_type": "execute_result",
          "data": {
            "text/plain": [
              "Index(['diagnosis', 'radius_mean', 'texture_mean', 'perimeter_mean',\n",
              "       'area_mean', 'smoothness_mean', 'compactness_mean', 'concavity_mean',\n",
              "       'concave points_mean', 'symmetry_mean', 'fractal_dimension_mean',\n",
              "       'radius_se', 'texture_se', 'perimeter_se', 'area_se', 'smoothness_se',\n",
              "       'compactness_se', 'concavity_se', 'concave points_se', 'symmetry_se',\n",
              "       'fractal_dimension_se', 'radius_worst', 'texture_worst',\n",
              "       'perimeter_worst', 'area_worst', 'smoothness_worst',\n",
              "       'compactness_worst', 'concavity_worst', 'concave points_worst',\n",
              "       'symmetry_worst', 'fractal_dimension_worst'],\n",
              "      dtype='object')"
            ]
          },
          "metadata": {},
          "execution_count": 55
        }
      ]
    },
    {
      "cell_type": "code",
      "source": [
        "data_mean = data[['diagnosis','radius_mean','texture_mean','perimeter_mean','area_mean','smoothness_mean', 'compactness_mean', 'concavity_mean','concave points_mean', 'symmetry_mean', 'fractal_dimension_mean']]"
      ],
      "metadata": {
        "id": "0tyCKbQHtGZC"
      },
      "execution_count": null,
      "outputs": []
    },
    {
      "cell_type": "markdown",
      "source": [
        "We will just see how these features coorelate with the diagnosis using heatmap:"
      ],
      "metadata": {
        "id": "b9lZQBa3tMga"
      }
    },
    {
      "cell_type": "code",
      "source": [
        "plt.figure(figsize=(14,14))\n",
        "foo = sns.heatmap(data_mean.corr(), vmax=1, square=True, annot=True)"
      ],
      "metadata": {
        "colab": {
          "base_uri": "https://localhost:8080/",
          "height": 857
        },
        "id": "vZ8NJjQItJGU",
        "outputId": "c61ac47f-e27b-4057-c433-35234410d0c9"
      },
      "execution_count": null,
      "outputs": [
        {
          "output_type": "display_data",
          "data": {
            "image/png": "[encoded data removed]",
            "text/plain": [
              "<Figure size 1008x1008 with 2 Axes>"
            ]
          },
          "metadata": {
            "needs_background": "light"
          }
        }
      ]
    },
    {
      "cell_type": "markdown",
      "source": [
        "radius_mean, perimeter_mean, area_mean, compactness_mean, concavity_mean, concave points_mean show high coorelation with the diagnosis.\n",
        "The other variables do not really show high impact over diagnoses."
      ],
      "metadata": {
        "id": "VvLoc92ZtQ7v"
      }
    },
    {
      "cell_type": "markdown",
      "source": [
        "Bivariate Exploration:"
      ],
      "metadata": {
        "id": "9gr7EXWQtUKk"
      }
    },
    {
      "cell_type": "code",
      "source": [
        "_ = sns.swarmplot(y='perimeter_mean',x='diagnosis', data=data_mean)\n",
        "plt.show()"
      ],
      "metadata": {
        "colab": {
          "base_uri": "https://localhost:8080/",
          "height": 279
        },
        "id": "mjddxIVftO5P",
        "outputId": "7101a79b-fe23-401f-ca78-dc25dabb9b62"
      },
      "execution_count": null,
      "outputs": [
        {
          "output_type": "display_data",
          "data": {
            "image/png": "[encoded data removed]",
            "text/plain": [
              "<Figure size 432x288 with 1 Axes>"
            ]
          },
          "metadata": {
            "needs_background": "light"
          }
        }
      ]
    },
    {
      "cell_type": "markdown",
      "source": [
        "Setting up the train and test data:"
      ],
      "metadata": {
        "id": "0rPdtn-St1I6"
      }
    },
    {
      "cell_type": "code",
      "source": [
        "from sklearn.model_selection import train_test_split, cross_val_score, cross_val_predict\n",
        "from sklearn import metrics\n",
        "\n",
        "predictors = data_mean.columns[2:11]\n",
        "target = \"diagnosis\"\n",
        "\n",
        "X = data_mean.loc[:,predictors]\n",
        "y = np.ravel(data.loc[:,[target]])\n",
        "\n",
        "# Split the dataset in train and test:\n",
        "X_train, X_test, y_train, y_test = train_test_split(X, y, test_size=0.2, random_state=0)\n",
        "print ('Shape of training set : %i || Shape of test set : %i' % (X_train.shape[0],X_test.shape[0]) )\n",
        "print ('The dataset is very small so simple cross-validation approach should work here')\n",
        "print ('There are very few data points so 10-fold cross validation should give us a better estimate')"
      ],
      "metadata": {
        "colab": {
          "base_uri": "https://localhost:8080/"
        },
        "id": "O1NaHpv5teNG",
        "outputId": "0eba66d8-a869-4e97-ee42-ed60fb0e6a27"
      },
      "execution_count": null,
      "outputs": [
        {
          "output_type": "stream",
          "name": "stdout",
          "text": [
            "Shape of training set : 455 || Shape of test set : 114\n",
            "The dataset is very small so simple cross-validation approach should work here\n",
            "There are very few data points so 10-fold cross validation should give us a better estimate\n"
          ]
        }
      ]
    },
    {
      "cell_type": "markdown",
      "source": [
        "Logistic Regression Model:\n",
        "\n",
        "This technique is widely used in medical field where dealing with binary classification problems.\n",
        "\n",
        "Firstly we will run over all the mean features against our target feature.\n",
        "\n",
        "We will use the features for our model based on the features that showed correlation in our heatmap."
      ],
      "metadata": {
        "id": "Sq1qR2BOt9H8"
      }
    },
    {
      "cell_type": "code",
      "source": [
        "# Importing the model:\n",
        "from sklearn.linear_model import LogisticRegression\n",
        "\n",
        "# Initiating the model:\n",
        "lr = LogisticRegression()\n",
        "\n",
        "scores = cross_val_score(lr, X_train, y_train, scoring='accuracy' ,cv=10).mean()\n",
        "\n",
        "print(\"The mean accuracy with 10 fold cross validation is %s\" % round(scores*100,2))"
      ],
      "metadata": {
        "colab": {
          "base_uri": "https://localhost:8080/"
        },
        "id": "prJk8r7kt3hz",
        "outputId": "ed755426-f153-4140-d4f5-8754a396d143"
      },
      "execution_count": null,
      "outputs": [
        {
          "output_type": "stream",
          "name": "stdout",
          "text": [
            "The mean accuracy with 10 fold cross validation is 91.0\n"
          ]
        }
      ]
    },
    {
      "cell_type": "markdown",
      "source": [
        "SVM:"
      ],
      "metadata": {
        "id": "NaB3pFk1utri"
      }
    },
    {
      "cell_type": "code",
      "source": [
        "# Importing the model:\n",
        "from sklearn import svm\n",
        "\n",
        "# Initiating the model:\n",
        "svm = svm.SVC()\n",
        "\n",
        "scores = cross_val_score(svm, X_train, y_train, scoring='accuracy' ,cv=10).mean()\n",
        "\n",
        "print(\"The mean accuracy with 10 fold cross validation is %s\" % round(scores*100,2))"
      ],
      "metadata": {
        "colab": {
          "base_uri": "https://localhost:8080/"
        },
        "id": "onz5KIIruCxk",
        "outputId": "46aca9d6-b2d7-4b0d-fe4c-67286c5242d0"
      },
      "execution_count": null,
      "outputs": [
        {
          "output_type": "stream",
          "name": "stdout",
          "text": [
            "The mean accuracy with 10 fold cross validation is 86.83\n"
          ]
        }
      ]
    },
    {
      "cell_type": "markdown",
      "source": [
        "We will try to hyper tune the parameters and try to fit with other kernels."
      ],
      "metadata": {
        "id": "CNvF8idHuy1a"
      }
    },
    {
      "cell_type": "markdown",
      "source": [
        "KNN:"
      ],
      "metadata": {
        "id": "hsaWBx6mu1YN"
      }
    },
    {
      "cell_type": "code",
      "source": [
        "# Importing the model:\n",
        "from sklearn.neighbors import KNeighborsClassifier\n",
        "\n",
        "# Initiating the model:\n",
        "knn = KNeighborsClassifier()\n",
        "\n",
        "scores = cross_val_score(knn, X_train, y_train, scoring='accuracy' ,cv=10).mean()\n",
        "\n",
        "print(\"The mean accuracy with 10 fold cross validation is %s\" % round(scores*100,2))"
      ],
      "metadata": {
        "colab": {
          "base_uri": "https://localhost:8080/"
        },
        "id": "J0bPsGiwuwWn",
        "outputId": "26e45e90-f4b5-40d3-e8e4-71344e5213d8"
      },
      "execution_count": null,
      "outputs": [
        {
          "output_type": "stream",
          "name": "stdout",
          "text": [
            "The mean accuracy with 10 fold cross validation is 88.37\n"
          ]
        }
      ]
    },
    {
      "cell_type": "markdown",
      "source": [
        "Perceptron:\n",
        "Perceptron is binary linear classification algortithm that purely decides based on the input (vector of numbers) if it belongs to specific class or not"
      ],
      "metadata": {
        "id": "Zo2Csqrbu8LM"
      }
    },
    {
      "cell_type": "code",
      "source": [
        "# Importing the model:\n",
        "from sklearn.linear_model import Perceptron\n",
        "\n",
        "# Initiating the model:\n",
        "pct = Perceptron()\n",
        "\n",
        "scores = cross_val_score(pct, X_train, y_train, scoring='accuracy' ,cv=10).mean()\n",
        "\n",
        "print(\"The mean accuracy with 10 fold cross validation is %s\" % round(scores*100,2))"
      ],
      "metadata": {
        "colab": {
          "base_uri": "https://localhost:8080/"
        },
        "id": "7zgp4_gzu5PX",
        "outputId": "f099cc1d-d866-460a-f13a-ae92fb25b059"
      },
      "execution_count": null,
      "outputs": [
        {
          "output_type": "stream",
          "name": "stdout",
          "text": [
            "The mean accuracy with 10 fold cross validation is 75.35\n"
          ]
        }
      ]
    },
    {
      "cell_type": "markdown",
      "source": [
        "Random Forest Model:"
      ],
      "metadata": {
        "id": "eKtsZgLWvC9j"
      }
    },
    {
      "cell_type": "code",
      "source": [
        "# Importing the model:\n",
        "from sklearn.ensemble import RandomForestClassifier\n",
        "\n",
        "# Initiating the model:\n",
        "rf = RandomForestClassifier()\n",
        "\n",
        "scores = cross_val_score(rf, X_train, y_train, scoring='accuracy' ,cv=10).mean()\n",
        "\n",
        "print(\"The mean accuracy with 10 fold cross validation is %s\" % round(scores*100,2))"
      ],
      "metadata": {
        "colab": {
          "base_uri": "https://localhost:8080/"
        },
        "id": "e1fUDgJNvAzJ",
        "outputId": "31bdb8c7-7224-4f08-d889-a8fbaca45a53"
      },
      "execution_count": null,
      "outputs": [
        {
          "output_type": "stream",
          "name": "stdout",
          "text": [
            "The mean accuracy with 10 fold cross validation is 93.42\n"
          ]
        }
      ]
    },
    {
      "cell_type": "markdown",
      "source": [
        "Naive Bayes:"
      ],
      "metadata": {
        "id": "sJXIoC5OvHHE"
      }
    },
    {
      "cell_type": "code",
      "source": [
        "# Importing the model:\n",
        "from sklearn.naive_bayes import GaussianNB\n",
        "\n",
        "# Initiating the model:\n",
        "nb = GaussianNB()\n",
        "\n",
        "scores = cross_val_score(rf, X_train, y_train, scoring='accuracy' ,cv=10).mean()\n",
        "\n",
        "print(\"The mean accuracy with 10 fold cross validation is %s\" % round(scores*100,2))"
      ],
      "metadata": {
        "colab": {
          "base_uri": "https://localhost:8080/"
        },
        "id": "PxouDMOUvFRa",
        "outputId": "c5d17e4d-248e-4c61-e782-6e2fc6069461"
      },
      "execution_count": null,
      "outputs": [
        {
          "output_type": "stream",
          "name": "stdout",
          "text": [
            "The mean accuracy with 10 fold cross validation is 93.86\n"
          ]
        }
      ]
    },
    {
      "cell_type": "markdown",
      "source": [
        "Logisitic Regression, Random Forest, Naive Bayes and kNN looks to perform better. \n",
        "\n",
        "Lets try to fine tune the parameters and see if we can get any improvisation.\n",
        "\n",
        "Starting with k-Nearest Neighbors:\n",
        "The default neighbors is 20. However, lets try running kNN for different values of neighbors:"
      ],
      "metadata": {
        "id": "HpJNoRNfvQWo"
      }
    },
    {
      "cell_type": "code",
      "source": [
        "for i in range(1, 21):\n",
        "    knn = KNeighborsClassifier(n_neighbors = i)\n",
        "    score = cross_val_score(knn, X_train, y_train, scoring='accuracy' ,cv=10).mean()\n",
        "    print(\"N = \" + str(i) + \" :: Score = \" + str(round(score,2)))"
      ],
      "metadata": {
        "colab": {
          "base_uri": "https://localhost:8080/"
        },
        "id": "NzRsdt33vJJ7",
        "outputId": "d37d9e3a-339d-4238-c6d9-76abea65d27a"
      },
      "execution_count": null,
      "outputs": [
        {
          "output_type": "stream",
          "name": "stdout",
          "text": [
            "N = 1 :: Score = 0.87\n",
            "N = 2 :: Score = 0.87\n",
            "N = 3 :: Score = 0.88\n",
            "N = 4 :: Score = 0.89\n",
            "N = 5 :: Score = 0.88\n",
            "N = 6 :: Score = 0.89\n",
            "N = 7 :: Score = 0.89\n",
            "N = 8 :: Score = 0.88\n",
            "N = 9 :: Score = 0.87\n",
            "N = 10 :: Score = 0.88\n",
            "N = 11 :: Score = 0.87\n",
            "N = 12 :: Score = 0.88\n",
            "N = 13 :: Score = 0.88\n",
            "N = 14 :: Score = 0.87\n",
            "N = 15 :: Score = 0.88\n",
            "N = 16 :: Score = 0.88\n",
            "N = 17 :: Score = 0.88\n",
            "N = 18 :: Score = 0.88\n",
            "N = 19 :: Score = 0.88\n",
            "N = 20 :: Score = 0.88\n"
          ]
        }
      ]
    },
    {
      "cell_type": "markdown",
      "source": [
        "The default number of trees is 10. However, lets try running Random Forest for different values of trees:"
      ],
      "metadata": {
        "id": "IEU3xlSDvX9L"
      }
    },
    {
      "cell_type": "code",
      "source": [
        "for i in range(1, 21):\n",
        "    rf = RandomForestClassifier(n_estimators = i)\n",
        "    score = cross_val_score(rf, X_train, y_train, scoring='accuracy' ,cv=10).mean()\n",
        "    print(\"N = \" + str(i) + \" :: Score = \" + str(round(score,2)))"
      ],
      "metadata": {
        "colab": {
          "base_uri": "https://localhost:8080/"
        },
        "id": "XV5ym2HhvVGY",
        "outputId": "0d5b400e-ce92-46b7-f656-3a2771b83c7f"
      },
      "execution_count": null,
      "outputs": [
        {
          "output_type": "stream",
          "name": "stdout",
          "text": [
            "N = 1 :: Score = 0.9\n",
            "N = 2 :: Score = 0.9\n",
            "N = 3 :: Score = 0.91\n",
            "N = 4 :: Score = 0.92\n",
            "N = 5 :: Score = 0.93\n",
            "N = 6 :: Score = 0.93\n",
            "N = 7 :: Score = 0.94\n",
            "N = 8 :: Score = 0.94\n",
            "N = 9 :: Score = 0.94\n",
            "N = 10 :: Score = 0.95\n",
            "N = 11 :: Score = 0.93\n",
            "N = 12 :: Score = 0.94\n",
            "N = 13 :: Score = 0.93\n",
            "N = 14 :: Score = 0.94\n",
            "N = 15 :: Score = 0.93\n",
            "N = 16 :: Score = 0.94\n",
            "N = 17 :: Score = 0.93\n",
            "N = 18 :: Score = 0.95\n",
            "N = 19 :: Score = 0.93\n",
            "N = 20 :: Score = 0.95\n"
          ]
        }
      ]
    },
    {
      "cell_type": "markdown",
      "source": [
        "It looks like trees with 18 should give a reasonable estimate of the test data. Let us trying using Random Forest and Naive Bayes on our test dataset and finalize our model."
      ],
      "metadata": {
        "id": "Ga4YsNuUvh2s"
      }
    },
    {
      "cell_type": "code",
      "source": [
        "from sklearn.ensemble import RandomForestClassifier\n",
        "\n",
        "# Initiating the model:\n",
        "rf = RandomForestClassifier(n_estimators=18)\n",
        "\n",
        "rf = rf.fit(X_train, y_train)\n",
        "\n",
        "predicted = rf.predict(X_test)\n",
        "\n",
        "acc_test = metrics.accuracy_score(y_test, predicted)\n",
        "\n",
        "print ('The accuracy on test data is %s' % (round(acc_test,2)))"
      ],
      "metadata": {
        "colab": {
          "base_uri": "https://localhost:8080/"
        },
        "id": "QDGwqKRhve4F",
        "outputId": "5dd1a7ae-2c8a-40ed-9498-55480a5a943c"
      },
      "execution_count": null,
      "outputs": [
        {
          "output_type": "stream",
          "name": "stdout",
          "text": [
            "The accuracy on test data is 0.98\n"
          ]
        }
      ]
    },
    {
      "cell_type": "code",
      "source": [
        "from sklearn.naive_bayes import GaussianNB\n",
        "\n",
        "# Initiating the model:\n",
        "nb = GaussianNB()\n",
        "\n",
        "nb = nb.fit(X_train, y_train)\n",
        "\n",
        "predicted = nb.predict(X_test)\n",
        "\n",
        "acc_test = metrics.accuracy_score(y_test, predicted)\n",
        "\n",
        "print ('The accuracy on test data is %s' % (acc_test))"
      ],
      "metadata": {
        "colab": {
          "base_uri": "https://localhost:8080/"
        },
        "id": "GqQhBYG7vmjD",
        "outputId": "63cc9d2d-ccaa-4f36-c20d-9ce475415d1a"
      },
      "execution_count": null,
      "outputs": [
        {
          "output_type": "stream",
          "name": "stdout",
          "text": [
            "The accuracy on test data is 0.8947368421052632\n"
          ]
        }
      ]
    },
    {
      "cell_type": "code",
      "source": [
        ""
      ],
      "metadata": {
        "id": "EFGZEvbVvpwL"
      },
      "execution_count": null,
      "outputs": []
    }
  ]
}